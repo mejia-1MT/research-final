{
 "cells": [
  {
   "cell_type": "code",
   "execution_count": null,
   "metadata": {},
   "outputs": [],
   "source": [
    "import pandas as pd\n",
    "\n",
    "# Replace 'your_excel_file.xlsx' with the path to your Excel file\n",
    "excel_file_path = 'Shopee-Product-20oz-September-2023.xlsx'\n",
    "\n",
    "product_data = pd.read_excel(excel_file_path)\n",
    "\n",
    "print(product_data)"
   ]
  }
 ],
 "metadata": {
  "language_info": {
   "name": "python"
  }
 },
 "nbformat": 4,
 "nbformat_minor": 2
}
